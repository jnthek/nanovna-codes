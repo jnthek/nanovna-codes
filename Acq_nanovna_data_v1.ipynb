{
 "cells": [
  {
   "cell_type": "code",
   "execution_count": 1,
   "metadata": {},
   "outputs": [],
   "source": [
    "from nanovna import NanoVNA\n",
    "import numpy as np\n",
    "import matplotlib.pyplot as plt\n",
    "import pickle"
   ]
  },
  {
   "cell_type": "code",
   "execution_count": 2,
   "metadata": {},
   "outputs": [],
   "source": [
    "def gamma_transfer_func(S11_here, S12_here, S21_here, S22_here, Gamma_here):\n",
    "    Gamma_prime_here = S11_here + ( S12_here * S21_here * Gamma_here/(1 - S22_here*Gamma_here))\n",
    "    return Gamma_prime_here\n",
    "\n",
    "def de_embed(S11_here, Diff_here, S22_here, Gamma_prime_here):\n",
    "    Gamma_here = (Gamma_prime_here - S11_here)/(Diff_here + S22_here*Gamma_prime_here)\n",
    "    return Gamma_here\n",
    "\n",
    "def de_embed_DUT(Gamma_DUT):\n",
    "    pickle_in = open('cal_coeffs.pkl',\"rb\")\n",
    "    cal_coeff = pickle.load(pickle_in)\n",
    "    \n",
    "    EDF_array = cal_coeff['EDF'] \n",
    "    diff_array = cal_coeff['diff'] \n",
    "    ESF_array = cal_coeff['ESF']\n",
    "    Gamma_DUT_cal = de_embed(EDF_array, diff_array, ESF_array, Gamma_DUT) \n",
    "    return Gamma_DUT_cal\n",
    "\n",
    "def cal_coeff_compute(dataset):\n",
    "    freq = dataset['freq']\n",
    "    Gamma_open = dataset['Open']\n",
    "    Gamma_short = dataset['Short']\n",
    "    Gamma_load = dataset['Load']\n",
    "    \n",
    "    EDF_array = np.zeros(len(freq), dtype=np.complex64)\n",
    "    ESF_array = np.zeros(len(freq), dtype=np.complex64)\n",
    "    diff_array = np.zeros(len(freq), dtype=np.complex64)\n",
    "    \n",
    "    # Let us assume the models as follows\n",
    "    Gamma_open_model = 1.0\n",
    "    Gamma_short_model = -1.0\n",
    "    Gamma_load_model = 0.00\n",
    "    \n",
    "    for i in range(len(freq)):\n",
    "\n",
    "        # We will try to recover the S params of the RP now.\n",
    "        Measure_matrix = np.array([[1, Gamma_open_model, Gamma_open_model*Gamma_open[i]],\n",
    "                                    [1, Gamma_short_model, Gamma_short_model*Gamma_short[i]],\n",
    "                                    [1, Gamma_load_model, Gamma_load_model*Gamma_load[i]]])\n",
    "\n",
    "        Gamma_matrix_measu = np.array([Gamma_open[i], Gamma_short[i], Gamma_load[i]])\n",
    "\n",
    "        reco_para = np.matmul(np.linalg.inv(Measure_matrix), Gamma_matrix_measu)\n",
    "\n",
    "        EDF_array[i] = reco_para[0]\n",
    "        diff_array[i] = reco_para[1]\n",
    "        ESF_array[i] = reco_para[2]\n",
    "        \n",
    "    my_data_dict = {}\n",
    "    my_data_dict['EDF'] = EDF_array\n",
    "    my_data_dict['ESF'] = ESF_array\n",
    "    my_data_dict['diff'] = diff_array\n",
    "    \n",
    "    file_out = 'cal_coeffs.pkl'\n",
    "    f = open(file_out,\"wb\")\n",
    "    pickle.dump(my_data_dict,f)\n",
    "    f.close()"
   ]
  },
  {
   "cell_type": "code",
   "execution_count": 3,
   "metadata": {},
   "outputs": [],
   "source": [
    "def acq():\n",
    "    nv = NanoVNA()\n",
    "    print (\"Connect open\")\n",
    "    nv.set_sweep(50e6, 200e6)\n",
    "    nv.fetch_frequencies()\n",
    "    freq = nv.frequencies\n",
    "    Gamma_open = nv.data(0)"
   ]
  },
  {
   "cell_type": "code",
   "execution_count": 4,
   "metadata": {},
   "outputs": [],
   "source": [
    "# nv = NanoVNA()"
   ]
  },
  {
   "cell_type": "code",
   "execution_count": 5,
   "metadata": {},
   "outputs": [],
   "source": [
    "# filename = \"long_cable.txt\"\n",
    "# nv.set_sweep(50e6, 200e6)\n",
    "# nv.fetch_frequencies()\n",
    "# freq = nv.frequencies"
   ]
  },
  {
   "cell_type": "code",
   "execution_count": 6,
   "metadata": {},
   "outputs": [],
   "source": [
    "# s11 = nv.data(0)\n",
    "# plt.plot(freq, np.real(s11))\n",
    "# plt.plot(freq, np.imag(s11))\n",
    "# np.savetxt(filename, np.column_stack([freq, np.real(s11), np.imag(s11)]))"
   ]
  },
  {
   "cell_type": "code",
   "execution_count": 7,
   "metadata": {},
   "outputs": [],
   "source": [
    "freq = np.loadtxt(\"Open.txt\", usecols=0)\n",
    "Gamma_open = np.loadtxt(\"Open.txt\", usecols=1)+np.loadtxt(\"Open.txt\", usecols=2)*1j\n",
    "Gamma_short = np.loadtxt(\"Short.txt\", usecols=1)+np.loadtxt(\"Short.txt\", usecols=2)*1j\n",
    "Gamma_load = np.loadtxt(\"Load.txt\", usecols=1)+np.loadtxt(\"Load.txt\", usecols=2)*1j\n",
    "Gamma_DUT = np.loadtxt(\"long_cable.txt\", usecols=1)+np.loadtxt(\"long_cable.txt\", usecols=2)*1j\n",
    "\n",
    "data_now = {}\n",
    "data_now['freq'] = freq\n",
    "data_now['Open'] = Gamma_open\n",
    "data_now['Short'] = Gamma_short \n",
    "data_now['Load'] = Gamma_load\n",
    "\n",
    "cal_coeff_compute(data_now)\n",
    "\n",
    "Gamma_DUT_cal = de_embed_DUT(Gamma_DUT) "
   ]
  },
  {
   "cell_type": "code",
   "execution_count": 8,
   "metadata": {},
   "outputs": [
    {
     "data": {
      "text/plain": [
       "[<matplotlib.lines.Line2D at 0x107eaadd8>]"
      ]
     },
     "execution_count": 8,
     "metadata": {},
     "output_type": "execute_result"
    },
    {
     "data": {
      "image/png": "[encoded data removed]",
      "text/plain": [
       "<Figure size 432x288 with 1 Axes>"
      ]
     },
     "metadata": {
      "needs_background": "light"
     },
     "output_type": "display_data"
    }
   ],
   "source": [
    "plt.plot(freq, np.abs(Gamma_DUT_cal))\n",
    "plt.plot(freq, np.abs(Gamma_DUT))"
   ]
  },
  {
   "cell_type": "code",
   "execution_count": null,
   "metadata": {},
   "outputs": [],
   "source": []
  }
 ],
 "metadata": {
  "kernelspec": {
   "display_name": "Python 3",
   "language": "python",
   "name": "python3"
  },
  "language_info": {
   "codemirror_mode": {
    "name": "ipython",
    "version": 3
   },
   "file_extension": ".py",
   "mimetype": "text/x-python",
   "name": "python",
   "nbconvert_exporter": "python",
   "pygments_lexer": "ipython3",
   "version": "3.7.3"
  }
 },
 "nbformat": 4,
 "nbformat_minor": 2
}
