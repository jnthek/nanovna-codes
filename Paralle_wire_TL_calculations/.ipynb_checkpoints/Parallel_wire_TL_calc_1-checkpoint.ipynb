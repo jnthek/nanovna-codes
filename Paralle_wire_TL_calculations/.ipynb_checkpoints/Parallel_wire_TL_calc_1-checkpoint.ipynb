{
 "cells": [
  {
   "cell_type": "code",
   "execution_count": 1,
   "metadata": {},
   "outputs": [],
   "source": [
    "# from math import cosh, pi, sqrt\n",
    "import numpy as np\n",
    "\n",
    "c_0 = 299792458.0\n",
    "mu_0 = 4*np.pi * 1e-7\n",
    "Z_0 = mu_0 * c_0"
   ]
  },
  {
   "cell_type": "code",
   "execution_count": 2,
   "metadata": {},
   "outputs": [
    {
     "name": "stdout",
     "output_type": "stream",
     "text": [
      "1.7411852276620057 0.14118522766200559\n"
     ]
    }
   ],
   "source": [
    "Z_c = 50\n",
    "d = 1.6\n",
    "epsilon_r = 1.00054\n",
    "\n",
    "D = d * np.cosh(np.pi * (Z_c/Z_0) * np.sqrt(epsilon_r))\n",
    "s = D - d\n",
    "print (D,s)"
   ]
  },
  {
   "cell_type": "code",
   "execution_count": 5,
   "metadata": {},
   "outputs": [
    {
     "name": "stdout",
     "output_type": "stream",
     "text": [
      "nan\n"
     ]
    },
    {
     "name": "stderr",
     "output_type": "stream",
     "text": [
      "/Library/Frameworks/Python.framework/Versions/3.7/lib/python3.7/site-packages/ipykernel_launcher.py:4: RuntimeWarning: invalid value encountered in arccosh\n",
      "  after removing the cwd from sys.path.\n"
     ]
    }
   ],
   "source": [
    "s = 1\n",
    "d = 1.6\n",
    "D = d+s\n",
    "epsilon_r = 1.00054\n",
    "Z_c = np.arccosh(D/d)*Z_0/(np.pi*np.sqrt(epsilon_r))\n",
    "\n",
    "print (Z_c)"
   ]
  },
  {
   "cell_type": "code",
   "execution_count": null,
   "metadata": {},
   "outputs": [],
   "source": []
  }
 ],
 "metadata": {
  "kernelspec": {
   "display_name": "Python 3",
   "language": "python",
   "name": "python3"
  },
  "language_info": {
   "codemirror_mode": {
    "name": "ipython",
    "version": 3
   },
   "file_extension": ".py",
   "mimetype": "text/x-python",
   "name": "python",
   "nbconvert_exporter": "python",
   "pygments_lexer": "ipython3",
   "version": "3.7.3"
  }
 },
 "nbformat": 4,
 "nbformat_minor": 4
}
