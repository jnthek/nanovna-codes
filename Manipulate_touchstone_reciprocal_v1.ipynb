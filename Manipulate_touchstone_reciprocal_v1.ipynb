{
 "cells": [
  {
   "cell_type": "code",
   "execution_count": 1,
   "metadata": {},
   "outputs": [],
   "source": [
    "import numpy as np\n",
    "import matplotlib.pyplot as plt"
   ]
  },
  {
   "cell_type": "code",
   "execution_count": 2,
   "metadata": {},
   "outputs": [],
   "source": [
    "PATH = \"/Users/jishnu/codespace/AMATEUR_RADIO/Code_nanovna/CABLE_DATA/\"\n",
    "file_name_2port = \"lc_full.s1p\""
   ]
  },
  {
   "cell_type": "code",
   "execution_count": 3,
   "metadata": {},
   "outputs": [],
   "source": [
    "freq = np.loadtxt(PATH+file_name_2port, usecols=0)\n",
    "\n",
    "S11_real = np.loadtxt(PATH+file_name_2port, usecols=1) \n",
    "S11_imag = np.loadtxt(PATH+file_name_2port, usecols=2)\n",
    "S21_real = np.loadtxt(PATH+file_name_2port, usecols=3) \n",
    "S21_imag = np.loadtxt(PATH+file_name_2port, usecols=4)\n",
    "\n",
    "S22_real = S11_real\n",
    "S22_imag = S11_imag\n",
    "S12_real = S21_real\n",
    "S12_imag = S21_imag"
   ]
  },
  {
   "cell_type": "code",
   "execution_count": 5,
   "metadata": {},
   "outputs": [],
   "source": [
    "np.savetxt(PATH+\"lc_2port_made_reciprocal.s2p\", np.column_stack([freq, S11_real, S11_imag, S21_real, S21_imag, S12_real, S12_imag, S22_real, S22_imag]), delimiter=' ')\n",
    "\n"
   ]
  },
  {
   "cell_type": "code",
   "execution_count": null,
   "metadata": {},
   "outputs": [],
   "source": []
  },
  {
   "cell_type": "code",
   "execution_count": null,
   "metadata": {},
   "outputs": [],
   "source": []
  }
 ],
 "metadata": {
  "kernelspec": {
   "display_name": "Python 3",
   "language": "python",
   "name": "python3"
  },
  "language_info": {
   "codemirror_mode": {
    "name": "ipython",
    "version": 3
   },
   "file_extension": ".py",
   "mimetype": "text/x-python",
   "name": "python",
   "nbconvert_exporter": "python",
   "pygments_lexer": "ipython3",
   "version": "3.7.3"
  }
 },
 "nbformat": 4,
 "nbformat_minor": 2
}
