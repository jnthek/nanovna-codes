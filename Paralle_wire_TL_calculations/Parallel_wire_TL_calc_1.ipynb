{
 "cells": [
  {
   "cell_type": "code",
   "execution_count": 1,
   "metadata": {},
   "outputs": [],
   "source": [
    "import numpy as np\n",
    "\n",
    "c_0 = 299792458.0\n",
    "mu_0 = 4*np.pi * 1e-7\n",
    "Z_0 = mu_0 * c_0"
   ]
  },
  {
   "cell_type": "code",
   "execution_count": 2,
   "metadata": {},
   "outputs": [
    {
     "name": "stdout",
     "output_type": "stream",
     "text": [
      "1.7411852276620057 0.14118522766200559\n"
     ]
    }
   ],
   "source": [
    "Z_c = 50\n",
    "d = 1.6\n",
    "epsilon_r = 1.00054\n",
    "\n",
    "D = d * np.cosh(np.pi * (Z_c/Z_0) * np.sqrt(epsilon_r))\n",
    "s = D - d\n",
    "print (D,s)"
   ]
  },
  {
   "cell_type": "code",
   "execution_count": 6,
   "metadata": {},
   "outputs": [
    {
     "name": "stdout",
     "output_type": "stream",
     "text": [
      "115.3797923431533\n",
      "4.0\n"
     ]
    }
   ],
   "source": [
    "s = 0.8\n",
    "d = 1.6\n",
    "D = d+s\n",
    "e2e_s = 2*d +s\n",
    "epsilon_r = 1.00054\n",
    "Z_c = np.arccosh(D/d)*Z_0/(np.pi*np.sqrt(epsilon_r))\n",
    "\n",
    "print (Z_c)\n",
    "print (e2e_s)"
   ]
  },
  {
   "cell_type": "code",
   "execution_count": 8,
   "metadata": {},
   "outputs": [],
   "source": [
    "# Z_open = 13.8\n",
    "# Z_short = 100-134j\n",
    "# Z_char = np.sqrt(Z_open*Z_short)\n",
    "# print (Z_char)"
   ]
  },
  {
   "cell_type": "code",
   "execution_count": null,
   "metadata": {},
   "outputs": [],
   "source": []
  }
 ],
 "metadata": {
  "kernelspec": {
   "display_name": "Python 3",
   "language": "python",
   "name": "python3"
  },
  "language_info": {
   "codemirror_mode": {
    "name": "ipython",
    "version": 3
   },
   "file_extension": ".py",
   "mimetype": "text/x-python",
   "name": "python",
   "nbconvert_exporter": "python",
   "pygments_lexer": "ipython3",
   "version": "3.7.3"
  }
 },
 "nbformat": 4,
 "nbformat_minor": 4
}
